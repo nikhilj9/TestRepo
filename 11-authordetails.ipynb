{
  "metadata": {
    "kernelspec": {
      "name": "python",
      "display_name": "Python (Pyodide)",
      "language": "python"
    },
    "language_info": {
      "codemirror_mode": {
        "name": "python",
        "version": 3
      },
      "file_extension": ".py",
      "mimetype": "text/x-python",
      "name": "python",
      "nbconvert_exporter": "python",
      "pygments_lexer": "ipython3",
      "version": "3.8"
    }
  },
  "nbformat_minor": 5,
  "nbformat": 4,
  "cells": [
    {
      "id": "6013349d-e067-4a78-8058-541edb7e7dd5",
      "cell_type": "markdown",
      "source": "## Author ##",
      "metadata": {}
    },
    {
      "id": "3d5d6b19-df64-48a9-ba7c-d2fe2c04a0c9",
      "cell_type": "code",
      "source": "Nikhil\n",
      "metadata": {
        "trusted": true
      },
      "outputs": [],
      "execution_count": null
    }
  ]
}